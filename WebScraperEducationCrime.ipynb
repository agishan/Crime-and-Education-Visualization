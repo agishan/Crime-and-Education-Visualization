{
 "cells": [
  {
   "cell_type": "markdown",
   "metadata": {},
   "source": [
    "# WEBSCRAPER: Scraped 2 tables and exported to panda data frames. Cleaned and joined tables then exported to mySQL Database."
   ]
  },
  {
   "cell_type": "code",
   "execution_count": 13,
   "metadata": {},
   "outputs": [],
   "source": [
    "from IPython.lib.display import join\n",
    "import pandas as pd\n",
    "from sqlalchemy import create_engine\n",
    "from pandas.io import sql\n",
    "import MySQLdb\n",
    "\n",
    "tables=pd.read_html(\"https://en.wikipedia.org/wiki/List_of_countries_by_intentional_homicide_rate\")\n",
    "crimes = tables[1]\n",
    "#clean crime data\n",
    "sum = 0\n",
    "for index, row in crimes.iterrows():\n",
    "    ent=row['Location']\n",
    "    entry = str(row['Location'])\n",
    "    if \"*\" in entry:\n",
    "       crimes = crimes.replace(row['Location'],entry[:len(entry) - 2])\n",
    "\n",
    "tables2=pd.read_html(\"https://www.worldeconomics.com/Indicator-Data/ESG/Social/Mean-Years-of-Schooling/\")\n",
    "education = tables2[0]\n",
    "education = education.rename(columns={\"Human Development Data: All Countries\" :\"Countries\", \"Mean Years of Schooling\": \"EducationYears\"})\n",
    "\n",
    "joined = pd.merge(crimes,education,how='inner',left_on='Location',right_on='Countries')"
   ]
  },
  {
   "cell_type": "code",
   "execution_count": 14,
   "metadata": {},
   "outputs": [
    {
     "data": {
      "text/plain": [
       "134"
      ]
     },
     "execution_count": 14,
     "metadata": {},
     "output_type": "execute_result"
    }
   ],
   "source": [
    "#import to Scraped Data Frames to SQL\n",
    "import sqlalchemy\n",
    "database_username = 'root'\n",
    "database_password = 'REDACTED'\n",
    "database_ip       = '127.0.0.1'\n",
    "database_name     = 'webscraper'\n",
    "database_connection = sqlalchemy.create_engine('mysql+mysqlconnector://{0}:{1}@{2}/{3}'.format(database_username, database_password, database_ip, database_name))\n",
    "joined.to_sql(con=database_connection, name='joined', if_exists='replace')"
   ]
  },
  {
   "cell_type": "code",
   "execution_count": 12,
   "metadata": {},
   "outputs": [
    {
     "data": {
      "text/plain": [
       "155"
      ]
     },
     "execution_count": 12,
     "metadata": {},
     "output_type": "execute_result"
    }
   ],
   "source": [
    "\n",
    "#import to Scraped Data Frames to SQL\n",
    "import sqlalchemy\n",
    "database_username = 'root'\n",
    "database_password = 'REDACTED'\n",
    "database_ip       = '127.0.0.1'\n",
    "database_name     = 'webscraper'\n",
    "database_connection = sqlalchemy.create_engine('mysql+mysqlconnector://{0}:{1}@{2}/{3}'.format(database_username, database_password, database_ip, database_name))\n",
    "crimes.to_sql(con=database_connection, name='international_crime_rates', if_exists='replace')\n",
    "education.to_sql(con=database_connection, name='education', if_exists='replace')"
   ]
  }
 ],
 "metadata": {
  "kernelspec": {
   "display_name": "Python 3.10.5 64-bit",
   "language": "python",
   "name": "python3"
  },
  "language_info": {
   "codemirror_mode": {
    "name": "ipython",
    "version": 3
   },
   "file_extension": ".py",
   "mimetype": "text/x-python",
   "name": "python",
   "nbconvert_exporter": "python",
   "pygments_lexer": "ipython3",
   "version": "3.10.5"
  },
  "orig_nbformat": 4,
  "vscode": {
   "interpreter": {
    "hash": "2ea236e76e157acfceffc787255ad2f6fabcd2f60f27e4600d822256e584874f"
   }
  }
 },
 "nbformat": 4,
 "nbformat_minor": 2
}
